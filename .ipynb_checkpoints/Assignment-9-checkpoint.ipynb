{
 "cells": [
  {
   "cell_type": "code",
   "execution_count": 1,
   "metadata": {},
   "outputs": [
    {
     "name": "stdout",
     "output_type": "stream",
     "text": [
      "Please enter a statement: pleaseee\n",
      "{'a': 1, 'e': 4, 'l': 1, 'p': 1, 's': 1}\n"
     ]
    }
   ],
   "source": [
    "sentence = input(\"Please enter a statement: \").lower()\n",
    "letters = sorted(set(sentence))\n",
    "ltr_count = {}\n",
    "for i in letters:\n",
    "   ltr_count[i] = sentence.count(i)\n",
    "print(ltr_count)"
   ]
  },
  {
   "cell_type": "code",
   "execution_count": null,
   "metadata": {},
   "outputs": [],
   "source": []
  }
 ],
 "metadata": {
  "kernelspec": {
   "display_name": "Python 3",
   "language": "python",
   "name": "python3"
  },
  "language_info": {
   "codemirror_mode": {
    "name": "ipython",
    "version": 3
   },
   "file_extension": ".py",
   "mimetype": "text/x-python",
   "name": "python",
   "nbconvert_exporter": "python",
   "pygments_lexer": "ipython3",
   "version": "3.7.6"
  }
 },
 "nbformat": 4,
 "nbformat_minor": 4
}
