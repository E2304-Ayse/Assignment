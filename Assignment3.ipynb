{
 "cells": [
  {
   "cell_type": "code",
   "execution_count": 6,
   "metadata": {},
   "outputs": [
    {
     "name": "stdout",
     "output_type": "stream",
     "text": [
      "Enter a number:9474\n",
      "9474 is an Armstrong number\n"
     ]
    }
   ],
   "source": [
    "number = input(\"Enter a number:\")\n",
    "sum = 0\n",
    "while not number.isnumeric():\n",
    "    print(\"It is an invalid entry. Don't use non-numeric, float, or negative values!\")\n",
    "    number = input(\" Enter a number: \")\n",
    "if number.isnumeric():\n",
    "    \n",
    "    for i in range(len(number)):\n",
    "         sum += int(number[i])**len(number)\n",
    "    if  sum == int(number):\n",
    "         print(f\"{int(number)} is an Armstrong number\")\n",
    "    else:\n",
    "        print(f\"{int(number)} is not an Armstrong number\")\n",
    "\n",
    "\n"
   ]
  },
  {
   "cell_type": "code",
   "execution_count": null,
   "metadata": {},
   "outputs": [],
   "source": []
  },
  {
   "cell_type": "code",
   "execution_count": null,
   "metadata": {},
   "outputs": [],
   "source": []
  }
 ],
 "metadata": {
  "kernelspec": {
   "display_name": "Python 3",
   "language": "python",
   "name": "python3"
  },
  "language_info": {
   "codemirror_mode": {
    "name": "ipython",
    "version": 3
   },
   "file_extension": ".py",
   "mimetype": "text/x-python",
   "name": "python",
   "nbconvert_exporter": "python",
   "pygments_lexer": "ipython3",
   "version": "3.7.6"
  }
 },
 "nbformat": 4,
 "nbformat_minor": 4
}
