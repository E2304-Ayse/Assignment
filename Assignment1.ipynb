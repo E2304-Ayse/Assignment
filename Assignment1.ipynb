{
 "cells": [
  {
   "cell_type": "code",
   "execution_count": 6,
   "metadata": {},
   "outputs": [
    {
     "name": "stdout",
     "output_type": "stream",
     "text": [
      "Entered your name: fatma\n",
      "Hello! see you later\n",
      "Hello fatma! see you later\n"
     ]
    }
   ],
   "source": [
    "name = input('Entered your name: ')\n",
    "\n",
    "if name == \"ayse\" :\n",
    "        print('Hello Ayse! The password is : W@12 ')\n",
    "    \n",
    "else:\n",
    "    print('Hello! see you later')\n",
    "    print(f\"Hello {name}! see you later\")\n",
    "\n",
    "\n"
   ]
  },
  {
   "cell_type": "code",
   "execution_count": null,
   "metadata": {},
   "outputs": [],
   "source": []
  }
 ],
 "metadata": {
  "kernelspec": {
   "display_name": "Python 3",
   "language": "python",
   "name": "python3"
  },
  "language_info": {
   "codemirror_mode": {
    "name": "ipython",
    "version": 3
   },
   "file_extension": ".py",
   "mimetype": "text/x-python",
   "name": "python",
   "nbconvert_exporter": "python",
   "pygments_lexer": "ipython3",
   "version": "3.7.6"
  }
 },
 "nbformat": 4,
 "nbformat_minor": 4
}
