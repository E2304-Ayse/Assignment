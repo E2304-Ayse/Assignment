{
 "cells": [
  {
   "cell_type": "code",
   "execution_count": 19,
   "metadata": {},
   "outputs": [
    {
     "name": "stdout",
     "output_type": "stream",
     "text": [
      "Enter a number:22\n",
      "22 asal sayi degildir.\n"
     ]
    }
   ],
   "source": [
    "sayi = int(input(\"Enter a number:\"))\n",
    "for i in range(2,sayi):\n",
    "    if(sayi%i == 0):\n",
    "        print(f\"{sayi} asal sayi degildir.\")\n",
    "        break\n",
    "    else:\n",
    "        print(f\"{sayi} asal sayidir.\")\n",
    "        break\n",
    "        \n",
    "        "
   ]
  },
  {
   "cell_type": "code",
   "execution_count": null,
   "metadata": {},
   "outputs": [],
   "source": []
  }
 ],
 "metadata": {
  "kernelspec": {
   "display_name": "Python 3",
   "language": "python",
   "name": "python3"
  },
  "language_info": {
   "codemirror_mode": {
    "name": "ipython",
    "version": 3
   },
   "file_extension": ".py",
   "mimetype": "text/x-python",
   "name": "python",
   "nbconvert_exporter": "python",
   "pygments_lexer": "ipython3",
   "version": "3.7.6"
  }
 },
 "nbformat": 4,
 "nbformat_minor": 4
}
