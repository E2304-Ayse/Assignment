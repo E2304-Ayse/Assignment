{
 "cells": [
  {
   "cell_type": "code",
   "execution_count": 2,
   "metadata": {
    "scrolled": false
   },
   "outputs": [
    {
     "name": "stdout",
     "output_type": "stream",
     "text": [
      "Are you cigaratte addict older than 75 years old? (Yes/No) yes\n",
      "Do you have a severe chronic disease? : (Yes/No) no\n",
      "Is your immune system too weak? : (Yes/No) yes\n",
      "age answer: True \n",
      "chronic answer: False \n",
      "immune answer: True\n",
      "You are in the risky group\n"
     ]
    }
   ],
   "source": [
    "age = input(\"Are you cigaratte addict older than 75 years old? (Yes/No) \").title().strip() == \"Yes\"\n",
    "chronic = input(\"Do you have a severe chronic disease? : (Yes/No) \").title().strip() == \"Yes\"\n",
    "immune = input(\"Is your immune system too weak? : (Yes/No) \").title().strip() == \"Yes\"\n",
    "print(\"age answer:\", age, \"\\nchronic answer:\", chronic, \"\\nimmune answer:\", immune)\n",
    "if age or chronic or immune :\n",
    "    print(\"You are in the risky group\")\n",
    "else :\n",
    "    print(\"You are not in the risky group\")"
   ]
  },
  {
   "cell_type": "code",
   "execution_count": null,
   "metadata": {},
   "outputs": [],
   "source": []
  }
 ],
 "metadata": {
  "kernelspec": {
   "display_name": "Python 3",
   "language": "python",
   "name": "python3"
  },
  "language_info": {
   "codemirror_mode": {
    "name": "ipython",
    "version": 3
   },
   "file_extension": ".py",
   "mimetype": "text/x-python",
   "name": "python",
   "nbconvert_exporter": "python",
   "pygments_lexer": "ipython3",
   "version": "3.7.6"
  }
 },
 "nbformat": 4,
 "nbformat_minor": 4
}
